{
 "cells": [
  {
   "cell_type": "code",
   "execution_count": 20,
   "id": "67a0a932",
   "metadata": {},
   "outputs": [],
   "source": [
    "import numpy as np\n",
    "import pandas as pd\n",
    "import wfdb \n",
    "import random\n",
    "import matplotlib.pyplot as plt\n",
    "\n",
    "df = pd.DataFrame()\n",
    "\n",
    "ann = wfdb.rdann(\"dat/100\", 'atr')\n",
    "\n"
   ]
  },
  {
   "cell_type": "code",
   "execution_count": 25,
   "id": "3f9b49de",
   "metadata": {
    "scrolled": false
   },
   "outputs": [
    {
     "data": {
      "text/plain": [
       "array(['+', 'A', 'N', 'V'], dtype='<U1')"
      ]
     },
     "metadata": {},
     "output_type": "display_data"
    },
    {
     "data": {
      "text/plain": [
       "array([   1,   33, 2239,    1], dtype=int64)"
      ]
     },
     "metadata": {},
     "output_type": "display_data"
    }
   ],
   "source": [
    "ann.symbol\n",
    "\n",
    "vals, cnts = np.unique(ann.symbol, return_counts=True)\n",
    "display(vals, cnts)\n"
   ]
  },
  {
   "cell_type": "code",
   "execution_count": null,
   "id": "8b1bfe6f",
   "metadata": {},
   "outputs": [],
   "source": [
    "import wfdb\n",
    "import pywt\n",
    "import matplotlib.pyplot as plt\n",
    "\n",
    "signal = wfdb.rdrecord(filename, channels=[0]).p_signal"
   ]
  }
 ],
 "metadata": {
  "kernelspec": {
   "display_name": "Python 3 (ipykernel)",
   "language": "python",
   "name": "python3"
  },
  "language_info": {
   "codemirror_mode": {
    "name": "ipython",
    "version": 3
   },
   "file_extension": ".py",
   "mimetype": "text/x-python",
   "name": "python",
   "nbconvert_exporter": "python",
   "pygments_lexer": "ipython3",
   "version": "3.8.2"
  }
 },
 "nbformat": 4,
 "nbformat_minor": 5
}
